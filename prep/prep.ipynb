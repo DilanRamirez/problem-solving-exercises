{
 "metadata": {
  "language_info": {
   "codemirror_mode": {
    "name": "ipython",
    "version": 3
   },
   "file_extension": ".py",
   "mimetype": "text/x-python",
   "name": "python",
   "nbconvert_exporter": "python",
   "pygments_lexer": "ipython3",
   "version": "3.9.1-final"
  },
  "orig_nbformat": 2,
  "kernelspec": {
   "name": "python3",
   "display_name": "Python 3.9.1 64-bit",
   "metadata": {
    "interpreter": {
     "hash": "15379182e871ccf1d58bc0933a69c5c037e5a1974081beb8544f2e30f8eb95e4"
    }
   }
  }
 },
 "nbformat": 4,
 "nbformat_minor": 2,
 "cells": [
  {
   "cell_type": "code",
   "execution_count": 4,
   "metadata": {},
   "outputs": [
    {
     "output_type": "stream",
     "name": "stdout",
     "text": [
      "1 3\n2 3\n3 3\n"
     ]
    },
    {
     "output_type": "execute_result",
     "data": {
      "text/plain": [
       "'Alice Loves Bob'"
      ]
     },
     "metadata": {},
     "execution_count": 4
    }
   ],
   "source": [
    "# Given an input string, reverse the string word by word.\n",
    "'''\n",
    "1. traverse word by word\n",
    "2. add every word to a queue\n",
    "3. pop the words of the queue and append them to a new string\n",
    "4. return the result string\n",
    "\n",
    "\"hello word\" -> \"world hello\"\n",
    "'''\n",
    "\n",
    "def reverseWords(S):\n",
    "    words = S.split(\" \")\n",
    "    result = \"\"\n",
    "    count = 1\n",
    "    words = [word for word in words if word != \"\"]\n",
    "    size = len(words)\n",
    "    \n",
    "    for word in words[::-1]:\n",
    "        if count < size:\n",
    "            result += word + \" \"\n",
    "        else:\n",
    "            result += word\n",
    "        count += 1\n",
    "\n",
    "    return result\n",
    "\n",
    "reverseWords(S=\"  Bob    Loves  Alice   \")"
   ]
  },
  {
   "cell_type": "code",
   "execution_count": 10,
   "metadata": {},
   "outputs": [
    {
     "output_type": "execute_result",
     "data": {
      "text/plain": [
       "[0, 1]"
      ]
     },
     "metadata": {},
     "execution_count": 10
    }
   ],
   "source": [
    "# Given an array of integers nums and an integer target, \n",
    "# return indices of the two numbers such that they add up to target. \n",
    "# You may assume that each input would have exactly one solution, \n",
    "# and you may not use the same element twice.\"\n",
    "\n",
    "'''\n",
    "nums = [2,7,11,15], target = 9\n",
    "1. traverse all nums\n",
    "2. add the result of the \n",
    "3. if both add up the target, return their indices\n",
    "                        2, 7, 11, 15\n",
    "                 9     /   |  |    \\\n",
    "                      7    11 15    2\n",
    "                     /     |\n",
    "                    11     15\n",
    "\n",
    "1. create a dict to store the current visited nums\n",
    "2. traverse nums \n",
    "3. if target minus the current num is in our dict,\n",
    "    return the num\n",
    "4. if not, add the current number to the dict as key, and its index as value\n",
    "\n",
    "'''\n",
    "\n",
    "def twoSums(nums, target):\n",
    "    for num1 in range(len(nums)):\n",
    "        for num2 in range(len(nums)):\n",
    "            if nums[num1] != nums[num2]:\n",
    "                total = nums[num1] + nums[num2]\n",
    "                if total == target:\n",
    "                    return [num1, num2]\n",
    "\n",
    "def twoSums_DynnProg(nums, target):\n",
    "    memoSum = {}\n",
    "    for i in range(len(nums)): # i = 1\n",
    "        curr = nums[i] # 7\n",
    "        total = target - curr # 9-7=2\n",
    "        \n",
    "        if total in memoSum: # memo={2:0}\n",
    "            return [memoSum[total],i] # [0, 1]\n",
    "        else:\n",
    "            memoSum[curr] = i #memo={2:0}\n",
    "\n",
    "                    \n",
    "twoSums_DynnProg(nums = [2,7,11,15], target = 9)"
   ]
  },
  {
   "cell_type": "code",
   "execution_count": 30,
   "metadata": {
    "tags": []
   },
   "outputs": [
    {
     "output_type": "execute_result",
     "data": {
      "text/plain": [
       "-59"
      ]
     },
     "metadata": {},
     "execution_count": 30
    }
   ],
   "source": [
    "# Given an unsorted integer array nums, find the smallest missing positive integer.\n",
    "'''\n",
    "nums = [7,8,9,11,12]\n",
    "*nums can contain negative numbers\n",
    "*nums can't be a empty list\n",
    "\n",
    "1. sort nums\n",
    "2. find the smallest and biggest\n",
    "3. create a for loop in range of the smallest and largest\n",
    "4. check if the numbers from the loop are in nums\n",
    "5. if they are and the smallest is bigger that 1, return 1 \n",
    "6. otherwise, return the biggest +1\n",
    "6. if a number of the loop is not in nums, return that one\n",
    "\n",
    "minNum = 7\n",
    "maxNum = 12\n",
    "for num in range(minNum, maxNum):\n",
    "    8,9,10,11\n",
    "'''\n",
    "def firstMissingPositive(nums):\n",
    "    if len(nums) == 0:\n",
    "        return 1\n",
    "\n",
    "    if len(nums) == 1 and nums[0] < 0:\n",
    "        return 1\n",
    "\n",
    "    nums.sort() # [-1,1,3,4]\n",
    "    smallest = nums[0] # -1\n",
    "    biggest = nums[-1] # -2\n",
    "    newNums = []\n",
    "\n",
    "    if smallest > 1:\n",
    "        return 1\n",
    "\n",
    "    for num in range(smallest, biggest):\n",
    "        newNums.append(num) # [-2]\n",
    "    \n",
    "    for num in newNums:\n",
    "        if num not in nums and num != 0: # -2\n",
    "            return num\n",
    "    if biggest < 0:\n",
    "        return 1\n",
    "    return biggest + 1\n",
    "    \n",
    "\n",
    "firstMissingPositive(nums=[-1,-2,-60,40,43])\n"
   ]
  },
  {
   "cell_type": "code",
   "execution_count": null,
   "metadata": {},
   "outputs": [],
   "source": []
  }
 ]
}