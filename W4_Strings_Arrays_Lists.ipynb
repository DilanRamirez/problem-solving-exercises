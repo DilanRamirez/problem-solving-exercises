{
 "metadata": {
  "language_info": {
   "codemirror_mode": {
    "name": "ipython",
    "version": 3
   },
   "file_extension": ".py",
   "mimetype": "text/x-python",
   "name": "python",
   "nbconvert_exporter": "python",
   "pygments_lexer": "ipython3",
   "version": "3.9.1-final"
  },
  "orig_nbformat": 2,
  "kernelspec": {
   "name": "python3",
   "display_name": "Python 3.9.1 64-bit",
   "metadata": {
    "interpreter": {
     "hash": "15379182e871ccf1d58bc0933a69c5c037e5a1974081beb8544f2e30f8eb95e4"
    }
   }
  }
 },
 "nbformat": 4,
 "nbformat_minor": 2,
 "cells": [
  {
   "cell_type": "code",
   "execution_count": 27,
   "metadata": {},
   "outputs": [
    {
     "output_type": "execute_result",
     "data": {
      "text/plain": [
       "3"
      ]
     },
     "metadata": {},
     "execution_count": 27
    }
   ],
   "source": [
    "# Problem 1: Middle of Linked List\n",
    "\n",
    "# Given a non-empty, singly linked list with head node head, return a reference to the middle node of the linked list.\n",
    "\n",
    "class Node(object):\n",
    "    def __init__(self, data, next=None):\n",
    "        self.data = data\n",
    "        self.next = next\n",
    "\n",
    "class SLikst:\n",
    "    listLen = 0\n",
    "\n",
    "    def __init__(self):\n",
    "        self.head = None\n",
    "\n",
    "    def Append(self, value):\n",
    "        new_node = Node(value)\n",
    "        if self.head == None:\n",
    "            self.head = new_node\n",
    "            return\n",
    "\n",
    "        last = self.head \n",
    "        while (last.next): \n",
    "            last = last.next\n",
    "        last.next =  new_node\n",
    "\n",
    "    def Length(self):\n",
    "        temp = self.head\n",
    "        while temp is not None:\n",
    "            self.listLen += 1\n",
    "            temp = temp.next\n",
    "        return self.listLen\n",
    "\n",
    "    # Problem 1: Middle of Linked List\n",
    "    def middleNode(self):\n",
    "        listLenght = self.Length()\n",
    "        middle = int(listLenght / 2) + 1\n",
    "        self.listLen = 0\n",
    "        while self.head is not None:\n",
    "            self.listLen += 1\n",
    "            if self.listLen == middle:\n",
    "                return self.head.data\n",
    "            self.head = self.head.next\n",
    "\n",
    "    # Problem 1: Middle of Linked List\n",
    "    def middleNode_v2(self):\n",
    "        toList = []\n",
    "        while self.head is not None:\n",
    "            toList.append(self.head.data)\n",
    "            self.head = self.head.next\n",
    " \n",
    "        return toList[int(len(toList)/2)]\n",
    "\n",
    "            \n",
    "\n",
    "\n",
    "sList = SLikst()\n",
    "for value in range(1,6):\n",
    "    sList.Append(value)\n",
    "\n",
    "# sList.middleNode()\n",
    "sList.middleNode_v2()\n",
    "\n",
    "\n",
    "\n"
   ]
  },
  {
   "cell_type": "code",
   "execution_count": 35,
   "metadata": {},
   "outputs": [
    {
     "output_type": "execute_result",
     "data": {
      "text/plain": [
       "5"
      ]
     },
     "metadata": {},
     "execution_count": 35
    }
   ],
   "source": [
    "# Problem 2: Convert Binary Number in a Linked List to Integer\n",
    "\n",
    "# Given head which is a reference node to a singly-linked list. The value of each node in the linked list is either 0 or 1. The linked list holds the binary representation of a number.\n",
    "\n",
    "# Return the decimal value of the number in the linked list.\n",
    "\n",
    "class Node(object):\n",
    "    def __init__(self, data, next=None):\n",
    "        self.data = data\n",
    "        self.next = next\n",
    "\n",
    "class SLikst:\n",
    "    listLen = 0\n",
    "\n",
    "    def __init__(self):\n",
    "        self.head = None\n",
    "\n",
    "    def Append(self, value):\n",
    "        new_node = Node(value)\n",
    "        if self.head == None:\n",
    "            self.head = new_node\n",
    "            return\n",
    "\n",
    "        last = self.head \n",
    "        while (last.next): \n",
    "            last = last.next\n",
    "        last.next =  new_node\n",
    "\n",
    "    # Problem 2: Convert Binary Number in a Linked List to Integer\n",
    "    def BinarytoDecimal(self):\n",
    "        binary = ''\n",
    "        while self.head is not None:\n",
    "            binary += str(self.head.data)\n",
    "            self.head = self.head.next\n",
    "        return int(binary, 2)\n",
    "        \n",
    "\n",
    "sList = SLikst()\n",
    "binary = [1,0,1]\n",
    "for value in binary:\n",
    "    sList.Append(value)\n",
    "sList.BinarytoDecimal()\n"
   ]
  },
  {
   "cell_type": "code",
   "execution_count": 11,
   "metadata": {},
   "outputs": [
    {
     "output_type": "stream",
     "name": "stdout",
     "text": [
      "[1, 2] [3, 4, 5]\n"
     ]
    },
    {
     "output_type": "execute_result",
     "data": {
      "text/plain": [
       "[3, 4, 5, 1, 2]"
      ]
     },
     "metadata": {},
     "execution_count": 11
    }
   ],
   "source": [
    "# Problem 3: Rotate Array\n",
    "# Given an array, rotate the array to the right by k steps, where k is non-negative.\n",
    "\n",
    "# [7,1,2,3,4,5,6] -> 1\n",
    "# [6,7,1,2,3,4,5] -> 2\n",
    "# [5,6,7,1,2,3,4] -> 3\n",
    "# [4,5,6,7,1,2,3] -> 4\n",
    "\n",
    "def rotateArray(array, k):\n",
    "    lenght = len(array)\n",
    "    print(array[lenght-k:])\n",
    "    return array[lenght-k:] + array[0:lenght-k]\n",
    "\n",
    "# rotateArray(array=[1,2,3,4,5], k=4)\n",
    "\n",
    "def rotateArray2(array, k):\n",
    "    lenght = len(array)\n",
    "    print(array[:k], array[k:])\n",
    "    # return array[lenght-k:] + array[0:lenght-k]\n",
    "    return array[k:] + array[:k]\n",
    "\n",
    "rotateArray2(array=[1,2,3,4,5], k=2)\n",
    "\n",
    "\n",
    "    \n"
   ]
  },
  {
   "cell_type": "code",
   "execution_count": 19,
   "metadata": {},
   "outputs": [
    {
     "output_type": "execute_result",
     "data": {
      "text/plain": [
       "[0, 4, 1, 3, 2]"
      ]
     },
     "metadata": {},
     "execution_count": 19
    }
   ],
   "source": [
    "def DI_String_Matching(string):\n",
    "    output = []\n",
    "    I_temp, D_temp = 0, len(string)\n",
    "\n",
    "    for char in range(len(string)):\n",
    "        if string[char] == \"I\":\n",
    "            output.append(I_temp)\n",
    "            I_temp += 1\n",
    "        elif string[char] == \"D\":\n",
    "            output.append(D_temp)\n",
    "            D_temp -= 1\n",
    "\n",
    "    output.append(I_temp)\n",
    "\n",
    "    return output\n",
    "\n",
    "string = 'IDID'\n",
    "DI_String_Matching(string)"
   ]
  },
  {
   "cell_type": "code",
   "execution_count": null,
   "metadata": {},
   "outputs": [],
   "source": [
    "'''\r\n",
    "determine how many times it occurs in the list of input strings. \r\n",
    "'''\r\n",
    "\r\n",
    "def matchingStrings(strings, queries):\r\n",
    "    memoQueries, result = {}, []\r\n",
    "    for query in queries:\r\n",
    "        freq = strings.count(query)\r\n",
    "        result.append(freq)\r\n",
    "    return result\r\n",
    "\r\n"
   ]
  }
 ]
}