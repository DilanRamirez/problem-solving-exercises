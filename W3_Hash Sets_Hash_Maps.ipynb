{
 "metadata": {
  "language_info": {
   "codemirror_mode": {
    "name": "ipython",
    "version": 3
   },
   "file_extension": ".py",
   "mimetype": "text/x-python",
   "name": "python",
   "nbconvert_exporter": "python",
   "pygments_lexer": "ipython3",
   "version": "3.8.5-final"
  },
  "orig_nbformat": 2,
  "kernelspec": {
   "name": "python38532bite3265058a00e46b0a1c93adca26cd556",
   "display_name": "Python 3.8.5 32-bit"
  }
 },
 "nbformat": 4,
 "nbformat_minor": 2,
 "cells": [
  {
   "cell_type": "code",
   "execution_count": 4,
   "metadata": {},
   "outputs": [
    {
     "output_type": "execute_result",
     "data": {
      "text/plain": [
       "[0, 1]"
      ]
     },
     "metadata": {},
     "execution_count": 4
    }
   ],
   "source": [
    "#1. TwoSum\n",
    "#Given an array of integers, return the indices of the two numbers that add up to a specific target.\n",
    "#You may assume that each input would have exactly one solution, and you may not use the same element twice.\n",
    "\n",
    "def twoSum(intArray, target):\n",
    "    solutionDic = dict()\n",
    "    for num in range(len(intArray)):\n",
    "        if target - intArray[num] in solutionDic:\n",
    "            return [solutionDic[target - intArray[num]], num]\n",
    "        else:\n",
    "            solutionDic[intArray[num]] = num\n",
    "\n",
    "intArray = [2, 7, 11, 15]\n",
    "twoSum(intArray, 9)"
   ]
  },
  {
   "cell_type": "code",
   "execution_count": 7,
   "metadata": {},
   "outputs": [
    {
     "output_type": "execute_result",
     "data": {
      "text/plain": [
       "3"
      ]
     },
     "metadata": {},
     "execution_count": 7
    }
   ],
   "source": [
    "# 2.Repeated Number\n",
    "# You are given an array of integers called nums. The numbers stored in the array appear only once except for one. Write a method that finds this number\n",
    "\n",
    "# Example:\n",
    "# nums = [3, 4, 6, 1, 3, 10, -1] return 3\n",
    "\n",
    "def repeatedNumber(nums):\n",
    "    repeated = set()\n",
    "    for num in nums:\n",
    "        if num in repeated:\n",
    "            return num\n",
    "        repeated.add(num)\n",
    "\n",
    "nums = [3, 4, 6, 1, 3, 10, -1]\n",
    "repeatedNumber(nums)\n",
    "        "
   ]
  },
  {
   "cell_type": "code",
   "execution_count": 16,
   "metadata": {},
   "outputs": [
    {
     "output_type": "execute_result",
     "data": {
      "text/plain": [
       "'hello'"
      ]
     },
     "metadata": {},
     "execution_count": 16
    }
   ],
   "source": [
    "# 3. Most Common Word\n",
    "# Given a string of words separated by spaces, find the word that appears the most in the string\n",
    "\n",
    "# Example:\n",
    "# Given “hello world hello hello world hi”\n",
    "# Return hello\n",
    "\n",
    "def mostCommonWord(text):\n",
    "    repeatedWord = dict()\n",
    "    textList = text.split(' ')\n",
    "    for word in textList:\n",
    "        if word not in repeatedWord:\n",
    "            repeatedWord[word] = 1\n",
    "        else:\n",
    "            repeatedWord[word] += 1\n",
    "    return max(repeatedWord, key=repeatedWord.get)\n",
    "       \n",
    "\n",
    "text = 'hello world hello hello world hi'\n",
    "mostCommonWord(text)\n",
    "\n",
    "\n"
   ]
  },
  {
   "cell_type": "code",
   "execution_count": 18,
   "metadata": {},
   "outputs": [
    {
     "output_type": "execute_result",
     "data": {
      "text/plain": [
       "4"
      ]
     },
     "metadata": {},
     "execution_count": 18
    }
   ],
   "source": [
    "# 4. Single Number\n",
    "# Given a non-empty array of integers, every element appears twice except for one. Find that single one.\n",
    "\n",
    "# Example 1: Input: [2,2,1] Output: 1\n",
    "# Example 2: Input: [4,1,2,1,2] Output: 4\n",
    "\n",
    "def singleNumber(intArray):\n",
    "    singleNums = dict()\n",
    "    for num in intArray:\n",
    "        if num not in singleNums:\n",
    "            singleNums[num] = 1\n",
    "        else:\n",
    "            singleNums[num] += 1\n",
    "    return min(singleNums, key=singleNums.get)\n",
    "\n",
    "intArray = [4,1,2,1,2]\n",
    "singleNumber(intArray)"
   ]
  },
  {
   "cell_type": "code",
   "execution_count": 90,
   "metadata": {},
   "outputs": [
    {
     "output_type": "execute_result",
     "data": {
      "text/plain": [
       "['Alaska', 'Dad', 'Pepe']"
      ]
     },
     "metadata": {},
     "execution_count": 90
    }
   ],
   "source": [
    "# 5. Keyboard Row\n",
    "# Given a List of words, return the words that can be typed using letters of \n",
    "# alphabet on only one row's of American keyboard like the image below.\n",
    "\n",
    "# Example:\n",
    "# Input: [\"Hello\", \"Alaska\", \"Dad\", \"Peace\"]\n",
    "# Output: [\"Alaska\", \"Dad\"]\n",
    "\n",
    "def keyboardRow(words):\n",
    "    splittedWord, accepted = [], []\n",
    "    newString1 = newString2 = newString3 = ' '\n",
    "    wordDic = {\n",
    "        '1':'qwertyuiopQWERTYUIOP',\n",
    "        '2':'asdfghjklASDFGHJKL',\n",
    "        '3':'zxcvbnmZXCVBNM'\n",
    "    }\n",
    "\n",
    "    for word in words:\n",
    "        splittedWord.append(list(word))\n",
    "\n",
    "    for word in splittedWord:\n",
    "        for letter in word:\n",
    "            if letter in wordDic['1']:\n",
    "                newString1 += letter\n",
    "            if letter in wordDic['2']:\n",
    "                newString2 += letter\n",
    "            if letter in wordDic['3']:\n",
    "                newString3 += letter\n",
    "                \n",
    "    for word in words:\n",
    "        if word in newString1 or word in newString2 or word in newString3:\n",
    "            accepted.append(word)\n",
    "    return accepted\n",
    "\n",
    "words = [\"Hello\", \"Alaska\", \"Dad\", \"Peace\", 'Pepe']\n",
    "keyboardRow(words)\n",
    "\n",
    "\n"
   ]
  },
  {
   "cell_type": "code",
   "execution_count": 87,
   "metadata": {},
   "outputs": [
    {
     "output_type": "stream",
     "name": "stdout",
     "text": [
      "Difference abcd and cbadm is: \n"
     ]
    },
    {
     "output_type": "execute_result",
     "data": {
      "text/plain": [
       "'m'"
      ]
     },
     "metadata": {},
     "execution_count": 87
    }
   ],
   "source": [
    "# 6. Find the Difference\n",
    "# Given two strings s and t which consist of only lowercase letters.\n",
    "# String t is generated by random shuffling string s and then add one more letter at a random position.\n",
    "# Find the letter that was added in t.\n",
    "\n",
    "# Example:\n",
    "\n",
    "# Input:\n",
    "# s = \"abcd\"\n",
    "# t = \"abcde\"\n",
    "\n",
    "# Output:\n",
    "# e\n",
    "\n",
    "# Explanation:\n",
    "# 'e' is the letter that was added.\n",
    "\n",
    "import random\n",
    "import string \n",
    "\n",
    "#first solution with static inputs\n",
    "def findDifference(stringS, stringT):\n",
    "    setStringS = set(stringS)\n",
    "    splitStringT = list(stringT)\n",
    "\n",
    "    for letter in splitStringT:\n",
    "        if letter not in setStringS:\n",
    "            return letter\n",
    "\n",
    "\n",
    "\n",
    "# second solution with dynamic generated input string values\n",
    "def findDifference_v2(stringS, stringT):\n",
    "    stringT = stringT.join(random.sample(stringS,len(stringS)))\n",
    "    stringT = stringT + ''.join(random.choices(string.ascii_lowercase + string.digits, k=1))\n",
    "\n",
    "    setStringS = set(stringS)\n",
    "    splitStringT = list(stringT)\n",
    "\n",
    "    print('Difference', stringS, 'and', stringT, 'is: ')\n",
    "    for letter in splitStringT:\n",
    "        if letter not in setStringS:\n",
    "            return letter\n",
    "\n",
    "            \n",
    "# findDifference(stringS=\"abcd\", stringT=\"abcde\")\n",
    "findDifference_v2(stringS=\"abcd\", stringT=\"\")"
   ]
  },
  {
   "cell_type": "code",
   "execution_count": null,
   "metadata": {},
   "outputs": [],
   "source": []
  }
 ]
}