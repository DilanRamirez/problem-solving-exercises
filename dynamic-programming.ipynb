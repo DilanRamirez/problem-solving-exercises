{
 "metadata": {
  "language_info": {
   "codemirror_mode": {
    "name": "ipython",
    "version": 3
   },
   "file_extension": ".py",
   "mimetype": "text/x-python",
   "name": "python",
   "nbconvert_exporter": "python",
   "pygments_lexer": "ipython3",
   "version": "3.8.5-final"
  },
  "orig_nbformat": 2,
  "kernelspec": {
   "name": "python38532bite3265058a00e46b0a1c93adca26cd556",
   "display_name": "Python 3.8.5 32-bit"
  }
 },
 "nbformat": 4,
 "nbformat_minor": 2,
 "cells": [
  {
   "cell_type": "code",
   "execution_count": 1,
   "metadata": {},
   "outputs": [
    {
     "output_type": "execute_result",
     "data": {
      "text/plain": [
       "2"
      ]
     },
     "metadata": {},
     "execution_count": 1
    }
   ],
   "source": [
    "class Solution:\n",
    "    def trap(self, height):\n",
    "        areasV, bars = 0, 0\n",
    "        max_bars = max_height = 0\n",
    "        heightLen = len(height)-1\n",
    "\n",
    "        while bars < heightLen:\n",
    "            if height[bars] < height[heightLen]:\n",
    "                if height[bars] > max_bars:\n",
    "                    max_bars = height[bars]\n",
    "                else:\n",
    "                    areasV += max_bars - height[bars]\n",
    "                bars += 1\n",
    "            else:\n",
    "                if height[heightLen] > max_height:\n",
    "                    max_height = height[heightLen]\n",
    "                else:\n",
    "                    areasV += max_height - height[heightLen]\n",
    "                heightLen -= 1\n",
    "        return areasV\n",
    "\n",
    "solution = Solution()\n",
    "height = [1,3,2,4,1,3,1,4,5,2,2,1,4,2,2]\n",
    "height2 =  [0,1,0,2,1]\n",
    "# solution.trap(height)\n",
    "solution.trap(height2)\n",
    "\n",
    "\n",
    "# Trace the solution using a concrete instance of the problem\n",
    "#     - picture attached to submission.\n",
    "# What prevented you from solving the problem?\n",
    "#     - I almost solved it but there was something I couldn't implement that was the watter volume because it was getting out of bounds but I already realized the              problem.\n",
    "# What did you learn? Did you have to Google a little more to understand the solution?\n",
    "#     - I had to Google beacuse I spent my two hours working on this. After looking at the solution, things got a little bit more clear. I learn how dynamic programming          is used in this example.\n",
    "# What would you do differently in the future if you were presented with a similar problem?\n",
    "#     - I would implement a while loop instead of a for loop.\n"
   ]
  },
  {
   "cell_type": "code",
   "execution_count": null,
   "metadata": {},
   "outputs": [],
   "source": []
  }
 ]
}