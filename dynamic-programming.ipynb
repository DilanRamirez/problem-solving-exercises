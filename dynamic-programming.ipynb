{
 "metadata": {
  "language_info": {
   "codemirror_mode": {
    "name": "ipython",
    "version": 3
   },
   "file_extension": ".py",
   "mimetype": "text/x-python",
   "name": "python",
   "nbconvert_exporter": "python",
   "pygments_lexer": "ipython3",
   "version": "3.9.1-final"
  },
  "orig_nbformat": 2,
  "kernelspec": {
   "name": "python3",
   "display_name": "Python 3.9.1 64-bit",
   "metadata": {
    "interpreter": {
     "hash": "15379182e871ccf1d58bc0933a69c5c037e5a1974081beb8544f2e30f8eb95e4"
    }
   }
  }
 },
 "nbformat": 4,
 "nbformat_minor": 2,
 "cells": [
  {
   "cell_type": "code",
   "execution_count": 1,
   "metadata": {},
   "outputs": [
    {
     "output_type": "execute_result",
     "data": {
      "text/plain": [
       "2"
      ]
     },
     "metadata": {},
     "execution_count": 1
    }
   ],
   "source": [
    "class Solution:\n",
    "    def trap(self, height):\n",
    "        areasV, bars = 0, 0\n",
    "        max_bars = max_height = 0\n",
    "        heightLen = len(height)-1\n",
    "\n",
    "        while bars < heightLen:\n",
    "            if height[bars] < height[heightLen]:\n",
    "                if height[bars] > max_bars:\n",
    "                    max_bars = height[bars]\n",
    "                else:\n",
    "                    areasV += max_bars - height[bars]\n",
    "                bars += 1\n",
    "            else:\n",
    "                if height[heightLen] > max_height:\n",
    "                    max_height = height[heightLen]\n",
    "                else:\n",
    "                    areasV += max_height - height[heightLen]\n",
    "                heightLen -= 1\n",
    "        return areasV\n",
    "\n",
    "solution = Solution()\n",
    "height = [1,3,2,4,1,3,1,4,5,2,2,1,4,2,2]\n",
    "height2 =  [0,1,0,2,1]\n",
    "# solution.trap(height)\n",
    "solution.trap(height2)\n",
    "\n",
    "\n",
    "# Trace the solution using a concrete instance of the problem\n",
    "#     - picture attached to submission.\n",
    "# What prevented you from solving the problem?\n",
    "#     - I almost solved it but there was something I couldn't implement that was the watter volume because it was getting out of bounds but I already realized the              problem.\n",
    "# What did you learn? Did you have to Google a little more to understand the solution?\n",
    "#     - I had to Google beacuse I spent my two hours working on this. After looking at the solution, things got a little bit more clear. I learn how dynamic programming          is used in this example.\n",
    "# What would you do differently in the future if you were presented with a similar problem?\n",
    "#     - I would implement a while loop instead of a for loop.\n"
   ]
  },
  {
   "cell_type": "code",
   "execution_count": 7,
   "metadata": {},
   "outputs": [
    {
     "output_type": "execute_result",
     "data": {
      "text/plain": [
       "23"
      ]
     },
     "metadata": {},
     "execution_count": 7
    }
   ],
   "source": [
    "def maxSubArray(nums):\n",
    "    curSum = nums[0] # 5\n",
    "    maxSum = nums[0] # 5\n",
    "    for i in range(1, len(nums)): # 8\n",
    "        curValue = curSum + nums[i] # curValue = 15 + 8 = 23\n",
    "        curSum = max(curValue, nums[i]) # curSum = 23,15\n",
    "        maxSum = max(curSum, maxSum) # max = 23, 15 \n",
    "    \n",
    "    return maxSum\n",
    "\n",
    "maxSubArray(nums = [5,4,-1,7,8])"
   ]
  },
  {
   "cell_type": "code",
   "execution_count": 31,
   "metadata": {},
   "outputs": [
    {
     "output_type": "execute_result",
     "data": {
      "text/plain": [
       "3"
      ]
     },
     "metadata": {},
     "execution_count": 31
    }
   ],
   "source": [
    "def climbStairs(n: int, memo = {}) -> int:  \n",
    "    if n <= 2:\n",
    "        return n\n",
    "    if n in memo: \n",
    "        return memo[n]\n",
    "    memo[n] = climbStairs(n-1) + climbStairs(n-2)\n",
    "    return memo[n]\n",
    "\n",
    "def climbStairs2(n):\n",
    "    memo = {1:1, 2:2}\n",
    "    if n <= 2: \n",
    "        return n\n",
    "    \n",
    "    for i in range(3, n+1):\n",
    "        memo[i] = memo[i-1]+memo[i-2]\n",
    "\n",
    "    return memo[n]\n",
    "\n",
    "climbStairs2(3)\n"
   ]
  },
  {
   "cell_type": "code",
   "execution_count": null,
   "metadata": {},
   "outputs": [],
   "source": []
  }
 ]
}