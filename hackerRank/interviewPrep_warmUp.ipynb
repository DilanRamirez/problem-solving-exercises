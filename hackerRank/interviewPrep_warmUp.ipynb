{
 "metadata": {
  "language_info": {
   "codemirror_mode": {
    "name": "ipython",
    "version": 3
   },
   "file_extension": ".py",
   "mimetype": "text/x-python",
   "name": "python",
   "nbconvert_exporter": "python",
   "pygments_lexer": "ipython3",
   "version": "3.9.1-final"
  },
  "orig_nbformat": 2,
  "kernelspec": {
   "name": "python3",
   "display_name": "Python 3.9.1 64-bit",
   "metadata": {
    "interpreter": {
     "hash": "15379182e871ccf1d58bc0933a69c5c037e5a1974081beb8544f2e30f8eb95e4"
    }
   }
  }
 },
 "nbformat": 4,
 "nbformat_minor": 2,
 "cells": [
  {
   "cell_type": "code",
   "execution_count": 17,
   "metadata": {},
   "outputs": [
    {
     "output_type": "stream",
     "name": "stdout",
     "text": [
      "2 1\n"
     ]
    },
    {
     "output_type": "execute_result",
     "data": {
      "text/plain": [
       "1"
      ]
     },
     "metadata": {},
     "execution_count": 17
    }
   ],
   "source": [
    "'''\n",
    "Input: Given an array of integers representing the color of each sock,\n",
    "return: determine how many pairs of socks with matching colors there are.\n",
    "'''\n",
    "\n",
    "def sockMerchant(socksNumber, colors):\n",
    "    memoSocks = {}\n",
    "    for color in colors:\n",
    "        if color not in memoSocks:\n",
    "            memoSocks[color] = 1\n",
    "        else:\n",
    "            memoSocks[color] += 1\n",
    "\n",
    "    totalPairs = 0\n",
    "    for sockPair in memoSocks:\n",
    "        color = memoSocks[sockPair]\n",
    "        if color >= 2:\n",
    "            totalPairs += color // 2\n",
    "\n",
    "    return totalPairs\n",
    "\n",
    "sockMerchant(7, colors=[1,1])\n"
   ]
  },
  {
   "cell_type": "code",
   "execution_count": 18,
   "metadata": {},
   "outputs": [
    {
     "output_type": "execute_result",
     "data": {
      "text/plain": [
       "1"
      ]
     },
     "metadata": {},
     "execution_count": 18
    }
   ],
   "source": [
    "'''\n",
    "- For every step it was noted if it was an \n",
    "    uphill = U\n",
    "    downhill = D\n",
    "- Hikes always start and end at sea level\n",
    "- Each step up or down represents 1 unit change in altitude.\n",
    "- Input: Given the sequence of up and down steps during a hike\n",
    "- Return: Find and print the number of valleys walked through.\n",
    "- Example: \n",
    "    path = \"UDDDUDUU\"\n",
    "\n",
    "s_/\\      _e\n",
    "    \\    /\n",
    "     \\/\\/\n",
    "\n",
    "queue = [U,D,D,D,U,D,U,U]\n",
    "'''\n",
    "\n",
    "def countingValleys(steps, path):\n",
    "    valleys, curLevel = 0, 0\n",
    "    for char in path:\n",
    "        if char == \"U\":\n",
    "            curLevel += 1\n",
    "        else:\n",
    "            curLevel -= 1\n",
    "        \n",
    "        if curLevel == 0 and char == \"U\":\n",
    "            valleys += 1\n",
    "\n",
    "    return valleys\n",
    "\n",
    "countingValleys(8, path=\"UDDDUDUU\")\n"
   ]
  },
  {
   "cell_type": "code",
   "execution_count": null,
   "metadata": {},
   "outputs": [],
   "source": [
    "'''\n",
    "\n",
    "''' \n",
    "def hourglassSum(arr):\n",
    "    hourglass, hourglassRes, maxSum = [], 0, -1000\n",
    "    for row in range(4):\n",
    "        for col in range(4):\n",
    "            top = sum(arr[row][col:col + 3])\n",
    "            middle = arr[row+1][j+1]\n",
    "            bottom = sum(arr[row+2][col:col + 3])\n",
    "            hourglass = top + middle + bottom\n",
    "\n",
    "            if hourglass > maxSum:\n",
    "                maxSum = hourglass\n",
    "\n",
    "    return maxSum\n",
    "\n",
    "\n"
   ]
  }
 ]
}