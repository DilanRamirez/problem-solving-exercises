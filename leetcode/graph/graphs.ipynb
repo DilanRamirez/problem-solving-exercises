{
 "metadata": {
  "language_info": {
   "codemirror_mode": {
    "name": "ipython",
    "version": 3
   },
   "file_extension": ".py",
   "mimetype": "text/x-python",
   "name": "python",
   "nbconvert_exporter": "python",
   "pygments_lexer": "ipython3",
   "version": "3.9.1-final"
  },
  "orig_nbformat": 2,
  "kernelspec": {
   "name": "python3",
   "display_name": "Python 3.9.1 64-bit",
   "metadata": {
    "interpreter": {
     "hash": "15379182e871ccf1d58bc0933a69c5c037e5a1974081beb8544f2e30f8eb95e4"
    }
   }
  }
 },
 "nbformat": 4,
 "nbformat_minor": 2,
 "cells": [
  {
   "cell_type": "code",
   "execution_count": 13,
   "metadata": {},
   "outputs": [
    {
     "output_type": "stream",
     "name": "stdout",
     "text": [
      "{1: 2, 2: 2, 3: 2}\n{2: 2, 3: 1}\n{3: 0}\n{}\n"
     ]
    },
    {
     "output_type": "execute_result",
     "data": {
      "text/plain": [
       "-1"
      ]
     },
     "metadata": {},
     "execution_count": 13
    }
   ],
   "source": [
    " def findJudge(N, trust):\n",
    "     noTrust = dict.fromkeys(range(1, N+1), N-1) # {1:2, 2:2, 3:2}\n",
    "\n",
    "     for arr in trust: # [2, 3]\n",
    "        #  print(noTrust)\n",
    "         if arr[1] in noTrust: # 3 \n",
    "             noTrust[arr[1]] = noTrust[arr[1]] - 1 # {2:2, 3:0}\n",
    "            \n",
    "         if arr[0] in noTrust: # {3:0}\n",
    "             del noTrust[arr[0]]\n",
    "    \n",
    "    #  print(noTrust)\n",
    "     for key, val in noTrust.items():\n",
    "        if val == 0:\n",
    "            return key\n",
    "\n",
    "     return -1\n",
    "\n",
    "findJudge(N = 3, trust = [[1,3],[2,3],[3,1]])"
   ]
  },
  {
   "cell_type": "code",
   "execution_count": 1,
   "metadata": {},
   "outputs": [
    {
     "output_type": "stream",
     "name": "stdout",
     "text": [
      "D ['D']\n"
     ]
    }
   ],
   "source": [
    "'''\n",
    "The Algorithm\n",
    "    1. Pick any node, visit the adjacent unvisited vertex,\n",
    "     mark it as visited, display it, and insert it in a queue.\n",
    "    2. If there are no remaining adjacent vertices left,\n",
    "     remove the first vertex from the queue.\n",
    "    3. Repeat step 1 and step 2 until the queue is empty\n",
    "     or the desired node is found.\n",
    "'''\n",
    "\n",
    "graph = {\n",
    "  'A' : ['B','C'],\n",
    "  'B' : ['D', 'E'],\n",
    "  'C' : ['F'],\n",
    "  'D' : [],\n",
    "  'E' : ['F'],\n",
    "  'F' : []\n",
    "}\n",
    "\n",
    "visited = [] # List to keep track of visited nodes.\n",
    "queue = []     #Initialize a queue\n",
    "\n",
    "def bfs(visited, graph, node):\n",
    "  visited.append(node) # visited = [A, B, C, D, E, F]\n",
    "  queue.append(node) # queue = []\n",
    "\n",
    "  while queue:\n",
    "    s = queue.pop(0) # s = F\n",
    "    print (s, end = \" \")  # A, B, C, D, E, F\n",
    "\n",
    "    for neighbour in graph[s]: # graph[E] = [F]\n",
    "      if neighbour not in visited: # if D not in [A, B, C, D, E, F]\n",
    "        visited.append(neighbour) # visited = [A, B, C, D, E, F]\n",
    "        queue.append(neighbour) # queue = []\n",
    "\n",
    "    print(visited)\n",
    "\n",
    "# Driver Code\n",
    "bfs(visited, graph, 'D')"
   ]
  },
  {
   "cell_type": "code",
   "execution_count": null,
   "metadata": {},
   "outputs": [],
   "source": [
    "def shortestAlternatingPaths(n, red_edges, blue_edges):\n",
    "\n",
    "def buildGraph(g, n, red, blue):\n",
    "    for "
   ]
  },
  {
   "cell_type": "code",
   "execution_count": null,
   "metadata": {},
   "outputs": [],
   "source": [
    "\n",
    "        "
   ]
  }
 ]
}