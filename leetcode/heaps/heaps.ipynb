{
 "metadata": {
  "language_info": {
   "codemirror_mode": {
    "name": "ipython",
    "version": 3
   },
   "file_extension": ".py",
   "mimetype": "text/x-python",
   "name": "python",
   "nbconvert_exporter": "python",
   "pygments_lexer": "ipython3",
   "version": "3.9.1-final"
  },
  "orig_nbformat": 2,
  "kernelspec": {
   "name": "python3",
   "display_name": "Python 3.9.1 64-bit",
   "metadata": {
    "interpreter": {
     "hash": "15379182e871ccf1d58bc0933a69c5c037e5a1974081beb8544f2e30f8eb95e4"
    }
   }
  }
 },
 "nbformat": 4,
 "nbformat_minor": 2,
 "cells": [
  {
   "cell_type": "code",
   "execution_count": 42,
   "metadata": {},
   "outputs": [],
   "source": [
    "def lastStoneWeight(stones):\n",
    "    '''\n",
    "                3\n",
    "              /   \\\n",
    "             7     8\n",
    "           \n",
    "    '''\n",
    "    heapq.heapify(stones) # [3,7,8]\n",
    "    print(stones)\n",
    "    queue = []\n",
    "    for stone in stones[::-1]:\n",
    "        queue.append(stone) # [8,7,3]\n",
    "\n",
    "    while len(queue) > 1:\n",
    "        x, y = queue.pop(), queue.pop() # 3,7\n",
    "        if x == y: \n",
    "            continue\n",
    "        else:\n",
    "            y = abs(y-x) # y=4\n",
    "            queue.append(y) # [8,4]\n",
    "    \n",
    "    if len(queue) == 0:\n",
    "        return 0 \n",
    "    return queue[0]\n",
    "\n",
    "\n",
    "def lastStoneWeight2(stones):\n",
    "    for i in range(len(stones)-1): # [3,7,8]\n",
    "        stones = sorted(stones, reverse=True) # [3,1]\n",
    "        max1 = stones.pop(0) # 3\n",
    "        stones[0] = max1 - stones[0] # [2]\n",
    "    return stones[0]"
   ]
  },
  {
   "cell_type": "code",
   "execution_count": 44,
   "metadata": {},
   "outputs": [],
   "source": [
    "def findKthLargest(nums, k):\n",
    "    '''\n",
    "    [3,2,1,5,6,4]\n",
    "    min = [1,2,3,5,6,4]\n",
    "    max = [6,5,4,2,3,1]\n",
    "\n",
    "                 6\n",
    "               /   \\\n",
    "              5     4\n",
    "             / \\   /\n",
    "            2   3 1\n",
    "\n",
    "                 1\n",
    "               /   \\\n",
    "              3     2\n",
    "             / \\   /\n",
    "            5   6 4\n",
    "\n",
    "    '''\n",
    "    def findKthLargest(nums, k):\n",
    "    ''' n log n'''\n",
    "    nums.sort()\n",
    "    count = 0\n",
    "    while k != count:\n",
    "        maxK = nums.pop()\n",
    "        count += 1\n",
    "    return maxK\n",
    "\n",
    "def findKthLargest_heap(nums, k):\n",
    "    ''' Min heap (n log k)'''\n",
    "    minHeap = []\n",
    "    for num in nums:\n",
    "        heapq.heappush(minHeap, num)\n",
    "        if len(minHeap) > k:\n",
    "            heapq.heappop(minHeap)\n",
    "    return heapq.heappop(minHeap)\n",
    "\n",
    "findKthLargest(nums = [3,2,3,1,2,4,5,5,6], k = 4)"
   ]
  },
  {
   "cell_type": "code",
   "execution_count": 37,
   "metadata": {},
   "outputs": [
    {
     "output_type": "execute_result",
     "data": {
      "text/plain": [
       "['i', 'love', 'coding']"
      ]
     },
     "metadata": {},
     "execution_count": 37
    }
   ],
   "source": [
    "def topKFreq(words, k):\n",
    "    memo, result = {}, []\n",
    "    for word in words:\n",
    "        if word not in memo:\n",
    "            memo[word] = -1\n",
    "        else:\n",
    "            memo[word] -= 1\n",
    "    \n",
    "    memo, i = sorted(memo, key=memo.get), 0\n",
    "    while i < k:\n",
    "        freq = memo.pop(0)\n",
    "        result.append(freq)\n",
    "        i += 1\n",
    "    \n",
    "    return result\n",
    "\n",
    "import heapq, collections\n",
    "def topKFreq_minHeap(words, k):\n",
    "    '''O(nlogk)'''\n",
    "    wordTimes, result = collections.Counter(words), []\n",
    "    sortList = []\n",
    "    for key, value in wordTimes.items():\n",
    "        sortList.append((-value, key))\n",
    "        \n",
    "    sortList.sort()\n",
    "    for i in range(k):\n",
    "        result.append(sortList[i][1])\n",
    "    return result\n",
    "\n",
    "topKFreq_minHeap(words = [\"i\", \"love\", \"leetcode\", \"i\", \"love\", \"coding\"], k=3)"
   ]
  },
  {
   "cell_type": "code",
   "execution_count": 60,
   "metadata": {},
   "outputs": [
    {
     "output_type": "execute_result",
     "data": {
      "text/plain": [
       "True"
      ]
     },
     "metadata": {},
     "execution_count": 60
    }
   ],
   "source": [
    "import heapq, collections\n",
    "def isPossible(nums):\n",
    "    left = collections.Counter(nums)\n",
    "    last = collections.Counter()\n",
    "    \n",
    "    for num in nums:\n",
    "        if not left[num]:\n",
    "            continue\n",
    "        left[num] -= 1\n",
    "        if last[num-1]:\n",
    "            last[num-1] -= 1\n",
    "            last[num] += 1\n",
    "        elif left[num+1] and left[num+2]:\n",
    "            left[num+1] -= 1\n",
    "            left[num+2] -= 1\n",
    "            last[num+2] += 1\n",
    "        else:\n",
    "            return False           \n",
    "    \n",
    "    return True\n",
    "\n",
    "    \n",
    "\n",
    "isPossible(nums = [1,2,3,3,4,5])"
   ]
  },
  {
   "cell_type": "code",
   "execution_count": 80,
   "metadata": {},
   "outputs": [
    {
     "output_type": "execute_result",
     "data": {
      "text/plain": [
       "'eeeeaaarrd'"
      ]
     },
     "metadata": {},
     "execution_count": 80
    }
   ],
   "source": [
    "def frequencySort(s):\n",
    "    '''\n",
    "    \"tree\"\n",
    "    \n",
    "    1. create a frequency dictionary\n",
    "    2. traverse string \n",
    "    3. if current character in dictionary, add one to its frequency\n",
    "    4. if current char not in dictionary, char is equal to one\n",
    "    4. sort the dictionary in decreasing order and return the string        \n",
    "    '''\n",
    "    \n",
    "    freqMemo = {}\n",
    "    for char in s:\n",
    "        if char in freqMemo:\n",
    "            freqMemo[char] += 1\n",
    "        else:\n",
    "            freqMemo[char] = 1\n",
    "    \n",
    "    result = \"\"\n",
    "    freqMemo = sorted(freqMemo.items(), key=lambda kv: kv[1], reverse=True)\n",
    "    for key, value in freqMemo:\n",
    "        for i in range(value):\n",
    "            result += key\n",
    "\n",
    "    return result\n",
    "\n",
    "frequencySort(s=\"raaeaedere\")"
   ]
  },
  {
   "cell_type": "code",
   "execution_count": 100,
   "metadata": {},
   "outputs": [
    {
     "output_type": "error",
     "ename": "IndexError",
     "evalue": "list index out of range",
     "traceback": [
      "\u001b[1;31m---------------------------------------------------------------------------\u001b[0m",
      "\u001b[1;31mIndexError\u001b[0m                                Traceback (most recent call last)",
      "\u001b[1;32m<ipython-input-100-465c23ee13a4>\u001b[0m in \u001b[0;36m<module>\u001b[1;34m\u001b[0m\n\u001b[0;32m     34\u001b[0m     \u001b[1;32mreturn\u001b[0m \u001b[0mresult\u001b[0m\u001b[1;33m\u001b[0m\u001b[1;33m\u001b[0m\u001b[0m\n\u001b[0;32m     35\u001b[0m \u001b[1;33m\u001b[0m\u001b[0m\n\u001b[1;32m---> 36\u001b[1;33m \u001b[0mreorganizeString\u001b[0m\u001b[1;33m(\u001b[0m\u001b[0ms\u001b[0m \u001b[1;33m=\u001b[0m \u001b[1;34m\"vvvlo\"\u001b[0m\u001b[1;33m)\u001b[0m\u001b[1;33m\u001b[0m\u001b[1;33m\u001b[0m\u001b[0m\n\u001b[0m",
      "\u001b[1;32m<ipython-input-100-465c23ee13a4>\u001b[0m in \u001b[0;36mreorganizeString\u001b[1;34m(s)\u001b[0m\n\u001b[0;32m     27\u001b[0m     \u001b[1;32melse\u001b[0m\u001b[1;33m:\u001b[0m\u001b[1;33m\u001b[0m\u001b[1;33m\u001b[0m\u001b[0m\n\u001b[0;32m     28\u001b[0m         \u001b[1;32mfor\u001b[0m \u001b[0mi\u001b[0m \u001b[1;32min\u001b[0m \u001b[0mrange\u001b[0m\u001b[1;33m(\u001b[0m\u001b[0mlen\u001b[0m\u001b[1;33m(\u001b[0m\u001b[0msame\u001b[0m\u001b[1;33m)\u001b[0m\u001b[1;33m)\u001b[0m\u001b[1;33m:\u001b[0m\u001b[1;33m\u001b[0m\u001b[1;33m\u001b[0m\u001b[0m\n\u001b[1;32m---> 29\u001b[1;33m             \u001b[1;32mif\u001b[0m \u001b[0msame\u001b[0m\u001b[1;33m[\u001b[0m\u001b[0mi\u001b[0m\u001b[1;33m]\u001b[0m \u001b[1;33m!=\u001b[0m \u001b[0ms\u001b[0m\u001b[1;33m[\u001b[0m\u001b[0mi\u001b[0m\u001b[1;33m-\u001b[0m\u001b[1;36m1\u001b[0m\u001b[1;33m]\u001b[0m\u001b[1;33m:\u001b[0m\u001b[1;33m\u001b[0m\u001b[1;33m\u001b[0m\u001b[0m\n\u001b[0m\u001b[0;32m     30\u001b[0m                 \u001b[0mcurr\u001b[0m \u001b[1;33m=\u001b[0m \u001b[0msame\u001b[0m\u001b[1;33m.\u001b[0m\u001b[0mpop\u001b[0m\u001b[1;33m(\u001b[0m\u001b[1;33m)\u001b[0m\u001b[1;33m\u001b[0m\u001b[1;33m\u001b[0m\u001b[0m\n\u001b[0;32m     31\u001b[0m                 \u001b[0mresult\u001b[0m \u001b[1;33m+=\u001b[0m \u001b[0mcurr\u001b[0m\u001b[1;33m\u001b[0m\u001b[1;33m\u001b[0m\u001b[0m\n",
      "\u001b[1;31mIndexError\u001b[0m: list index out of range"
     ]
    }
   ],
   "source": [
    "def reorganizeString(s):\n",
    "    '''\n",
    "    input: string s\n",
    "    to-do: \n",
    "        - check if the letters can be rearranged\n",
    "        - two characters that are adjacent to each other are not the same.\n",
    "        \n",
    "    output: any possible result. Otherwise, empty string.\n",
    "    \n",
    "   Example:\n",
    "   s = \"aab\"\n",
    "\n",
    "   \"a\":2,\n",
    "   \"b\":1\n",
    "    '''\n",
    "    \n",
    "    \n",
    "\n",
    "reorganizeString(s = \"vvvlo\")"
   ]
  },
  {
   "cell_type": "code",
   "execution_count": null,
   "metadata": {},
   "outputs": [],
   "source": []
  }
 ]
}