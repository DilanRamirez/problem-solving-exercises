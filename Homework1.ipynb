{
 "metadata": {
  "language_info": {
   "codemirror_mode": {
    "name": "ipython",
    "version": 3
   },
   "file_extension": ".py",
   "mimetype": "text/x-python",
   "name": "python",
   "nbconvert_exporter": "python",
   "pygments_lexer": "ipython3",
   "version": "3.9.1-final"
  },
  "orig_nbformat": 2,
  "kernelspec": {
   "name": "python3",
   "display_name": "Python 3.9.1 64-bit",
   "metadata": {
    "interpreter": {
     "hash": "15379182e871ccf1d58bc0933a69c5c037e5a1974081beb8544f2e30f8eb95e4"
    }
   }
  }
 },
 "nbformat": 4,
 "nbformat_minor": 2,
 "cells": [
  {
   "cell_type": "code",
   "execution_count": 1,
   "metadata": {},
   "outputs": [
    {
     "output_type": "stream",
     "name": "stdout",
     "text": [
      "['hello\\t\\tworld', 'hey']\n"
     ]
    },
    {
     "output_type": "execute_result",
     "data": {
      "text/plain": [
       "'dlrow\\t\\tolleh yeh '"
      ]
     },
     "metadata": {},
     "execution_count": 1
    }
   ],
   "source": [
    "# Dilan Raul Ramirez Ramirez\n",
    "\n",
    "# For each of the following problems, provide at least one solution. State the time and space  complexities of your solutions.\n",
    "\n",
    "# Problem 1: Reverse all the words in a string of words and spaces / tabs while preserving the word order and spacing.\n",
    "\n",
    "# Example: “moo cow bark dog” -> “oom woc krab god”\n",
    "\n",
    "# Time complexity -> O(n)\n",
    "# Space complexity -> n where n is the size of the input string.\n",
    "def reverseString(inputString):\n",
    "    # Reverse all the words in a string of words and spaces / tabs\n",
    "    if len(inputString) > 0:\n",
    "        reversedString = ''\n",
    "        # preserving the word order\n",
    "        stringWords = inputString.split(' ')\n",
    "        print(stringWords)\n",
    "        for word in stringWords:\n",
    "            reversedString += word[::-1]\n",
    "            # preserving the spacing.\n",
    "            reversedString += ' '\n",
    "\n",
    "        return reversedString\n",
    "    return inputString  \n",
    "\n",
    "input1 = 'Dilan Ramirez'\n",
    "input2 = 'hello\\t\\tworld hey'\n",
    "reverseString(input2)\n"
   ]
  },
  {
   "cell_type": "code",
   "execution_count": 12,
   "metadata": {},
   "outputs": [
    {
     "output_type": "execute_result",
     "data": {
      "text/plain": [
       "False"
      ]
     },
     "metadata": {},
     "execution_count": 12
    }
   ],
   "source": [
    "# Problem 2: Write a function that takes as input a string and returns whether the parenthesis are \"balanced\".\n",
    "\n",
    "# you solve this quickly, add the following difficulty: the string may also contain \"[]\" or \"{}\". Return whether all three types of brackets are balanced.\n",
    "\n",
    "# time complexity -> O(n)\n",
    "# space complexity -> 1 since it is not storing data.\n",
    "# function that takes as input a string\n",
    "def balancedParenthesis(inputString):\n",
    "    openCount, closeCount = 0, 0\n",
    "    # the string may also contain \"[]\" or \"{}\".\n",
    "    openingCharacters = ['(']\n",
    "    closingCharacters = [')']\n",
    "    \n",
    "    for char in inputString:\n",
    "        if char in openingCharacters:\n",
    "            openCount += 1\n",
    "        elif char in closingCharacters:\n",
    "            closeCount += 1\n",
    "\n",
    "    # returns whether the parenthesis are \"balanced\".\n",
    "    if openCount == closeCount:\n",
    "        return True\n",
    "    return False\n",
    "\n",
    "input = '(((())'\n",
    "balancedParenthesis(input)\n",
    "\n"
   ]
  },
  {
   "cell_type": "code",
   "execution_count": 51,
   "metadata": {},
   "outputs": [
    {
     "output_type": "execute_result",
     "data": {
      "text/plain": [
       "['foo', 'bar', 'baz']"
      ]
     },
     "metadata": {},
     "execution_count": 51
    }
   ],
   "source": [
    "# Problem 3: Write a function to return a copy of a list of strings with duplicates removed. Preserve order in the original list as much as possible (keep first occurrence).\n",
    "\n",
    "# Example: [\"foo\", \"bar\", \"baz\", \"foo\", \"bar\"] -> [\"foo\", \"bar\", \"baz\"]\n",
    "\n",
    "# time complexity -> O(n)\n",
    "# space complexity -> n since we are storing a slice of the list of size n where is the number of none repetible words.\n",
    "def removeDuplicates(inputList, n):\n",
    "    # only keep the strings that appear at least n times in the list \n",
    "    noDuplicates = []\n",
    "    for element in inputList:\n",
    "        if element not in noDuplicates:\n",
    "            # Preserve order in the original list\n",
    "            noDuplicates.append(element)\n",
    "        \n",
    "    # return a copy of a list of strings with duplicates removed.\n",
    "    return noDuplicates\n",
    "\n",
    "input = [\"foo\", \"bar\", \"baz\", \"foo\", \"bar\"]\n",
    "removeDuplicates(input, 1)\n"
   ]
  },
  {
   "cell_type": "code",
   "execution_count": 2,
   "metadata": {},
   "outputs": [
    {
     "output_type": "execute_result",
     "data": {
      "text/plain": [
       "[2, 3]"
      ]
     },
     "metadata": {},
     "execution_count": 2
    }
   ],
   "source": [
    "# Problem 4: Given an array of integers, return the indices of the two numbers that add up to a specific target.\n",
    "\n",
    "# You may assume that each input has exactly one solution, and you may not use the same element twice.\n",
    "\n",
    "# Example\n",
    "# Given nums = [2, 7, 11, 15], target = 9,\n",
    "# return [0, 1] because nums[0] + nums[1] = 2 + 7 = 9\n",
    "\n",
    "#time complexity -> O(n)\n",
    "#space complexity -> n where n is the size of number in the dictionary\n",
    "def twoSum(listInput, target):\n",
    "    # dictionary to store index values\n",
    "    dictIndex = {}\n",
    "    # traverse whole list\n",
    "    for indexNum in range(len(listInput)):\n",
    "        # substract the current number in list minus target\n",
    "        missing = target - listInput[indexNum]\n",
    "        # if the missing substraction value is in the dictionary, return those indexes\n",
    "        if missing in dictIndex:\n",
    "            return [dictIndex[missing], indexNum]\n",
    "        #if not store in dicionary the current number in list\n",
    "        dictIndex[listInput[indexNum]] = indexNum\n",
    "\n",
    "listInput = [2, 7, 11, 15]\n",
    "twoSum(listInput, 26)\n"
   ]
  },
  {
   "cell_type": "code",
   "execution_count": 3,
   "metadata": {},
   "outputs": [
    {
     "output_type": "execute_result",
     "data": {
      "text/plain": [
       "5"
      ]
     },
     "metadata": {},
     "execution_count": 3
    }
   ],
   "source": [
    "# Problem 5: Return the longest contiguous substring of 2 distinct characters from an input string.\n",
    "\n",
    "# Example\n",
    "# input: abbaacab return: abbaa\n",
    "# input: abcefabbabaabefghghfa return: abbabaab\n",
    "# input: aabceddddcdccecabceftg return: ddddcdcc\n",
    "# input: acbabbcbca return : bbcbc\n",
    "\n",
    "#time complexity -> O(n^2)\n",
    "# space complexity -> n where n is the size of the substring\n",
    "def longestSubstring(str, k):\n",
    "  if not str:\n",
    "    return 0\n",
    "  start, max_ = 0, 0\n",
    "  seen = set()\n",
    "  for end in range(len(str)):\n",
    "    seen.add(str[end])\n",
    "    while len(seen)>k:\n",
    "      if str[start] in seen:\n",
    "        seen.remove(str[start])\n",
    "      start+=1\n",
    "    max_ = max(max_, end-start+1)\n",
    "\n",
    "  return max_\n",
    "\n",
    "\n",
    "inputString = 'abbaacab'\n",
    "k = 2\n",
    "longestSubstring(inputString , k)\n",
    "\n",
    "# Trace the solution using a concrete instance of the problem\n",
    "# What prevented you from solving the problem?\n",
    "    # - I tried to solve it but didn't get the substring. I just got a part           of it \n",
    "# What did you learn? Did you have to Google a little more to understand the solution?\n",
    "    # - I did learn actually, I need to google the solution to undestand what         is going on\n",
    "# What would you do differently in the future if you were presented with a similar problem?\n",
    "    # - I would try to implement sub functions to help the main one.\n"
   ]
  },
  {
   "cell_type": "code",
   "execution_count": 4,
   "metadata": {},
   "outputs": [
    {
     "output_type": "execute_result",
     "data": {
      "text/plain": [
       "3"
      ]
     },
     "metadata": {},
     "execution_count": 4
    }
   ],
   "source": [
    " def lengthOfLongestSubstring(s):\n",
    "    substr = \"\"\n",
    "    for i in range(len(s)):\n",
    "        substr1 = \"\"\n",
    "        for j in range(i,len(s)):\n",
    "            if s[j] not in substr1:\n",
    "                substr1+=s[j]\n",
    "            elif s[j] in substr1:\n",
    "                break\n",
    "        if len(substr1)>len(substr):\n",
    "            substr=substr1\n",
    "    return len(substr)\n",
    "\n",
    "lengthOfLongestSubstring(s = \"abcabcbb\")"
   ]
  },
  {
   "cell_type": "code",
   "execution_count": null,
   "metadata": {},
   "outputs": [],
   "source": []
  }
 ]
}