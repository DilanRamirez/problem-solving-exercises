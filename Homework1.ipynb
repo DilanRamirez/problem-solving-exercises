{
 "metadata": {
  "language_info": {
   "codemirror_mode": {
    "name": "ipython",
    "version": 3
   },
   "file_extension": ".py",
   "mimetype": "text/x-python",
   "name": "python",
   "nbconvert_exporter": "python",
   "pygments_lexer": "ipython3",
   "version": "3.8.5-final"
  },
  "orig_nbformat": 2,
  "kernelspec": {
   "name": "Python 3.8.5 32-bit",
   "display_name": "Python 3.8.5 32-bit",
   "metadata": {
    "interpreter": {
     "hash": "61b148e6282d08621223edd4928be21cfad4147449cfafd6479a3350712d6faf"
    }
   }
  }
 },
 "nbformat": 4,
 "nbformat_minor": 2,
 "cells": [
  {
   "cell_type": "code",
   "execution_count": 22,
   "metadata": {},
   "outputs": [
    {
     "output_type": "stream",
     "name": "stdout",
     "text": [
      "Duration: 0:00:00\n"
     ]
    },
    {
     "output_type": "execute_result",
     "data": {
      "text/plain": [
       "'oom woc krab god '"
      ]
     },
     "metadata": {},
     "execution_count": 22
    }
   ],
   "source": [
    "# For each of the following problems, provide at least one solution. State the time and space  complexities of your solutions.\n",
    "\n",
    "# Problem 1: Reverse all the words in a string of words and spaces / tabs while preserving the word order and spacing.\n",
    "\n",
    "# Example: “moo cow bark dog” -> “oom woc krab god”\n",
    "\n",
    "def reverseString(inputString):\n",
    "    # Reverse all the words in a string of words and spaces / tabs\n",
    "    reversedString = ''\n",
    "    # preserving the word order\n",
    "    stringWords = inputString.split(' ')\n",
    "    for word in stringWords:\n",
    "        reversedString += word[::-1]\n",
    "        # preserving the spacing.\n",
    "        reversedString += ' '\n",
    "\n",
    "    return reversedString  \n",
    "\n",
    "input = 'moo cow bark dog'\n",
    "reverseString(input)\n"
   ]
  },
  {
   "cell_type": "code",
   "execution_count": 41,
   "metadata": {},
   "outputs": [
    {
     "output_type": "execute_result",
     "data": {
      "text/plain": [
       "True"
      ]
     },
     "metadata": {},
     "execution_count": 41
    }
   ],
   "source": [
    "# Problem 2: Write a function that takes as input a string and returns whether the parenthesis are \"balanced\".\n",
    "\n",
    "# you solve this quickly, add the following difficulty: the string may also contain \"[]\" or \"{}\". Return whether all three types of brackets are balanced.\n",
    "\n",
    "# function that takes as input a string\n",
    "def balancedParenthesis(inputString):\n",
    "    openCount, closeCount = 0, 0\n",
    "    # the string may also contain \"[]\" or \"{}\".\n",
    "    openingCharacters = ['(','[','{']\n",
    "    closingCharacters = [')',']','}']\n",
    "\n",
    "    for char in inputString:\n",
    "        if char in openingCharacters:\n",
    "            openCount += 1\n",
    "        elif char in closingCharacters:\n",
    "            closeCount += 1\n",
    "\n",
    "    # returns whether the parenthesis are \"balanced\".\n",
    "    if openCount == closeCount:\n",
    "        return True\n",
    "    return False\n",
    "\n",
    "input = '[(2 * 3)] + 2'\n",
    "balancedParenthesis(input)\n",
    "\n"
   ]
  },
  {
   "cell_type": "code",
   "execution_count": 51,
   "metadata": {},
   "outputs": [
    {
     "output_type": "execute_result",
     "data": {
      "text/plain": [
       "['foo', 'bar', 'baz']"
      ]
     },
     "metadata": {},
     "execution_count": 51
    }
   ],
   "source": [
    "# Problem 3: Write a function to return a copy of a list of strings with duplicates removed. Preserve order in the original list as much as possible (keep first occurrence).\n",
    "\n",
    "# Example: [\"foo\", \"bar\", \"baz\", \"foo\", \"bar\"] -> [\"foo\", \"bar\", \"baz\"]\n",
    "\n",
    "def removeDuplicates(inputList, n):\n",
    "    # only keep the strings that appear at least n times in the list \n",
    "    noDuplicates = []\n",
    "    for element in inputList:\n",
    "        if element not in noDuplicates:\n",
    "            # Preserve order in the original list\n",
    "            noDuplicates.append(element)\n",
    "        \n",
    "    # return a copy of a list of strings with duplicates removed.\n",
    "    return noDuplicates\n",
    "\n",
    "input = [\"foo\", \"bar\", \"baz\", \"foo\", \"bar\"]\n",
    "removeDuplicates(input, 1)\n"
   ]
  },
  {
   "cell_type": "code",
   "execution_count": null,
   "metadata": {},
   "outputs": [],
   "source": [
    "# Problem 4: Given an array of integers, return the indices of the two numbers that add up to a specific target.\n",
    "\n",
    "# You may assume that each input has exactly one solution, and you may not use the same element twice.\n",
    "\n",
    "# Example\n",
    "# Given nums = [2, 7, 11, 15], target = 9,\n",
    "# return [0, 1] because nums[0] + nums[1] = 2 + 7 = 9"
   ]
  },
  {
   "cell_type": "code",
   "execution_count": 97,
   "metadata": {},
   "outputs": [
    {
     "output_type": "stream",
     "name": "stdout",
     "text": [
      "bbaa\n"
     ]
    }
   ],
   "source": [
    "# Problem 5: Return the longest contiguous substring of 2 distinct characters from an input string.\n",
    "\n",
    "# Example\n",
    "# input: abbaacab return: abbaa\n",
    "# input: abcefabbabaabefghghfa return: abbabaab\n",
    "# input: aabceddddcdccecabceftg return: ddddcdcc\n",
    "# input: acbabbcbca return : bbcbc\n",
    "\n",
    "# checar cada una de las letras\n",
    "# checar la letra de enfrente \n",
    "# si las letras son iguales, agrego las letras a un nuevo string\n",
    "\n",
    "def longestSubstring(inputString):\n",
    "    pass\n",
    "\n",
    "\n",
    "inputString = 'abbaacab'\n",
    "longestSubstring(inputString)\n"
   ]
  },
  {
   "cell_type": "code",
   "execution_count": null,
   "metadata": {},
   "outputs": [],
   "source": []
  }
 ]
}