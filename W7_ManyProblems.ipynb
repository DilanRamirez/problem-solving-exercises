{
 "metadata": {
  "language_info": {
   "codemirror_mode": {
    "name": "ipython",
    "version": 3
   },
   "file_extension": ".py",
   "mimetype": "text/x-python",
   "name": "python",
   "nbconvert_exporter": "python",
   "pygments_lexer": "ipython3",
   "version": "3.8.5-final"
  },
  "orig_nbformat": 2,
  "kernelspec": {
   "name": "python38532bite3265058a00e46b0a1c93adca26cd556",
   "display_name": "Python 3.8.5 32-bit"
  }
 },
 "nbformat": 4,
 "nbformat_minor": 2,
 "cells": [
  {
   "cell_type": "code",
   "execution_count": 3,
   "metadata": {},
   "outputs": [
    {
     "output_type": "execute_result",
     "data": {
      "text/plain": [
       "5"
      ]
     },
     "metadata": {},
     "execution_count": 3
    }
   ],
   "source": [
    "# 2.\tGiven an array a and integer  k, count how many numbers in the array are divisible by k.\n",
    "\n",
    "# Examples:\n",
    "# \ta = [1,2,3,4,5,6,7,8,9,10], k = 2 -> 5\n",
    "\n",
    "# Input: array and integer\n",
    "# Output: integer\n",
    "\n",
    "def count_divisible(a, k):\n",
    "    totalDiv = 0\n",
    "    for num in a:\n",
    "        if num % k == 0:\n",
    "            totalDiv += 1\n",
    "    return totalDiv\n",
    "\n",
    "a = [1,2,3,4,5,6,7,8,9,10]\n",
    "\n",
    "count_divisible(a, 2)\n"
   ]
  },
  {
   "cell_type": "code",
   "execution_count": 5,
   "metadata": {},
   "outputs": [
    {
     "output_type": "execute_result",
     "data": {
      "text/plain": [
       "1"
      ]
     },
     "metadata": {},
     "execution_count": 5
    }
   ],
   "source": [
    "# 1.\tGiven an array, calculate the mode of the array i.e the item that shows up most often. If there are multiple modes, return any one of them.\n",
    "\n",
    "# Example \n",
    "# [1, 1, 1, 2, 7, 1] -> 1\n",
    "\n",
    "# Input: array\n",
    "# Output: int\n",
    "\n",
    "def calculate_mode(lst):\n",
    "    mode = dict()\n",
    "    for elt in lst:\n",
    "        if elt not in mode:\n",
    "            mode[elt] = 1\n",
    "        else:\n",
    "            mode[elt] += 1\n",
    "    return max(mode, key=mode.get)\n",
    "\n",
    "lst = [1, 1, 1, 2, 7, 1]\n",
    "calculate_mode(lst)\n",
    "\n"
   ]
  },
  {
   "cell_type": "code",
   "execution_count": null,
   "metadata": {},
   "outputs": [],
   "source": []
  }
 ]
}