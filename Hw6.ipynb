{
 "metadata": {
  "language_info": {
   "codemirror_mode": {
    "name": "ipython",
    "version": 3
   },
   "file_extension": ".py",
   "mimetype": "text/x-python",
   "name": "python",
   "nbconvert_exporter": "python",
   "pygments_lexer": "ipython3",
   "version": "3.8.5-final"
  },
  "orig_nbformat": 2,
  "kernelspec": {
   "name": "python38532bite3265058a00e46b0a1c93adca26cd556",
   "display_name": "Python 3.8.5 32-bit"
  }
 },
 "nbformat": 4,
 "nbformat_minor": 2,
 "cells": [
  {
   "cell_type": "code",
   "execution_count": 5,
   "metadata": {},
   "outputs": [
    {
     "output_type": "stream",
     "name": "stdout",
     "text": [
      "           70\n              50\n        10\n     6\n  3\n              2\n           -1\n        -4\n     -5\n        -8\nMaximum sum is 139\nMaximum sum path is: 50 70 10 6 3 "
     ]
    }
   ],
   "source": [
    "class TreeNode:\n",
    "    def __init__(self, x):\n",
    "        self.val = x\n",
    "        self.left = None\n",
    "        self.right = None\n",
    "\n",
    "class Solution:\n",
    "    def Insert(self, T, newItem):\n",
    "        if T == None:\n",
    "            T =  TreeNode(newItem)\n",
    "        elif T.val > newItem:\n",
    "            T.left = self.Insert(T.left,newItem)\n",
    "        else:\n",
    "            T.right = self.Insert(T.right,newItem)\n",
    "        return T\n",
    "\n",
    "    def InOrderD(self, T, space):\n",
    "    # Prints items and structure of BST\n",
    "        if T is not None:\n",
    "            self.InOrderD(T.right, space + '   ')\n",
    "            print(space, T.val)\n",
    "            self.InOrderD(T.left, space + '   ')\n",
    "\n",
    "    def printPath(self, T, sum):\n",
    " \n",
    "        # base case\n",
    "        if sum == 0:\n",
    "            return True\n",
    "    \n",
    "        # base case\n",
    "        if T is None:\n",
    "            return False\n",
    "    \n",
    "        # recur for left and right subtree with reduced sum\n",
    "        left = self.printPath(T.left, sum - T.val)\n",
    "        right = self.printPath(T.right, sum - T.val)\n",
    "    \n",
    "        # print current node if it lies on path having given sum\n",
    "        if left or right:\n",
    "            print(T.val, end=' ')\n",
    "    \n",
    "        return left or right\n",
    "    \n",
    " \n",
    "    # Function to calculate maximum T-to-leaf sum in a binary tree\n",
    "    def TToLeafSum(self, T):\n",
    "    \n",
    "        # base case: tree is empty\n",
    "        if T is None:\n",
    "            return 0\n",
    "    \n",
    "        # calculate maximum node-to-leaf sum for left child\n",
    "        left = self.TToLeafSum(T.left)\n",
    "    \n",
    "        # calculate maximum node-to-leaf sum for right child\n",
    "        right = self.TToLeafSum(T.right)\n",
    "    \n",
    "        # consider maximum sum child\n",
    "        return (left if left > right else right) + T.val\n",
    "    \n",
    "    \n",
    "    # Function to print maximum sum T-to-leaf path in a given binary tree\n",
    "    def findMaxSumPath(self, T):\n",
    "    \n",
    "        sum = self.TToLeafSum(T)\n",
    "        print(\"Maximum sum is\", sum)\n",
    "        print(\"Maximum sum path is: \", end='')\n",
    "    \n",
    "        self.printPath(T, sum)\n",
    "\n",
    "solution = Solution()\n",
    "T = None\n",
    "A =[3,6,10,70,-5,-4,-1,2,50,-8]\n",
    "\n",
    "for a in A:\n",
    "    T = solution.Insert(T,a)\n",
    "solution.InOrderD(T, ' ')\n",
    "\n",
    "solution.findMaxSumPath(T)"
   ]
  },
  {
   "cell_type": "code",
   "execution_count": null,
   "metadata": {},
   "outputs": [],
   "source": []
  }
 ]
}