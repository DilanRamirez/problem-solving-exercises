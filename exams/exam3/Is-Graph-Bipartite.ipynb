{
 "metadata": {
  "language_info": {
   "codemirror_mode": {
    "name": "ipython",
    "version": 3
   },
   "file_extension": ".py",
   "mimetype": "text/x-python",
   "name": "python",
   "nbconvert_exporter": "python",
   "pygments_lexer": "ipython3",
   "version": "3.8.5-final"
  },
  "orig_nbformat": 2,
  "kernelspec": {
   "name": "python38532bite3265058a00e46b0a1c93adca26cd556",
   "display_name": "Python 3.8.5 32-bit"
  }
 },
 "nbformat": 4,
 "nbformat_minor": 2,
 "cells": [
  {
   "cell_type": "code",
   "execution_count": 17,
   "metadata": {},
   "outputs": [
    {
     "output_type": "stream",
     "name": "stdout",
     "text": [
      "{0: 0, 1: 1, 3: 1, 2: 0}\n"
     ]
    },
    {
     "output_type": "execute_result",
     "data": {
      "text/plain": [
       "True"
      ]
     },
     "metadata": {},
     "execution_count": 17
    }
   ],
   "source": [
    "class Solution:\n",
    "    def isBipartite(self, graph):\n",
    "        # dictionary to store all nodes of the graph\n",
    "        subsets = {}\n",
    "        \n",
    "        # traverse all nodes of the graph to find neighbors\n",
    "        for node in range(len(graph)):\n",
    "            # check if the current node is not in the subset dictionary\n",
    "            if node not in subsets:\n",
    "                # create a stack to store all current nodes.\n",
    "                stack = [node]\n",
    "                subsets[node] = 0\n",
    "\n",
    "                # traverse the stack to find valid subsets\n",
    "                while stack:\n",
    "                    # use current node\n",
    "                    node = stack.pop()\n",
    "                    # Traverse neighbors of the current node\n",
    "                    for neighbor in graph[node]:\n",
    "                        # if the neightbors of the current node are not in the subsets dictionary \n",
    "                        if neighbor not in subsets:\n",
    "                            # add neightbor and assign a 1 - the value of the current node.\n",
    "                            # for this case, 1 will be used for a specific subset\n",
    "                            # and 0 will be used to the other subset.\n",
    "                            subsets[neighbor] = 1 - subsets[node]\n",
    "                            # add the new neighbor to the stack to now visit it and find the neighbors\n",
    "                            stack.append(neighbor)\n",
    "                        # if a neighbor in the subsets is equal to a node in the subsets with the same ID \n",
    "                        elif subsets[neighbor] == subsets[node]:\n",
    "                             return False\n",
    "        return True\n",
    "\n",
    "solution = Solution()\n",
    "solution.isBipartite(graph = [[1,3],[0,2],[1,3],[0,2]])\n",
    "\n",
    "'''\n",
    "[[1,3], [0,2], [1,3], [0,2]]\n",
    "\n",
    "0 --- 1\n",
    "|     |\n",
    "3 --- 2\n",
    "\n",
    "Subsets: \n",
    "A    0     2\n",
    "     |     |\n",
    "B    1     3\n",
    "'''\n",
    "        "
   ]
  },
  {
   "cell_type": "code",
   "execution_count": null,
   "metadata": {},
   "outputs": [],
   "source": []
  }
 ]
}