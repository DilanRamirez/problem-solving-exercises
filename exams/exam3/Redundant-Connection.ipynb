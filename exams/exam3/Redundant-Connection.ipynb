{
 "metadata": {
  "language_info": {
   "codemirror_mode": {
    "name": "ipython",
    "version": 3
   },
   "file_extension": ".py",
   "mimetype": "text/x-python",
   "name": "python",
   "nbconvert_exporter": "python",
   "pygments_lexer": "ipython3",
   "version": "3.8.5-final"
  },
  "orig_nbformat": 2,
  "kernelspec": {
   "name": "python38532bite3265058a00e46b0a1c93adca26cd556",
   "display_name": "Python 3.8.5 32-bit"
  }
 },
 "nbformat": 4,
 "nbformat_minor": 2,
 "cells": [
  {
   "cell_type": "code",
   "execution_count": 11,
   "metadata": {},
   "outputs": [
    {
     "output_type": "execute_result",
     "data": {
      "text/plain": [
       "[1, 4]"
      ]
     },
     "metadata": {},
     "execution_count": 11
    }
   ],
   "source": [
    "# This class is implemented to be able to make different opperations to the graph data structure.\n",
    "class UnionFind:\n",
    "    def __init__(self, n):\n",
    "        self.size = [1] * n\n",
    "        self.root = list(range(n))\n",
    "\n",
    "    '''\n",
    "    This function is based on the function I had in my data structure class.\n",
    "    def find(S,i):\n",
    "        if S[i]<0:\n",
    "            return i\n",
    "        return find(S,S[i])\n",
    "    '''\n",
    "    # Returns root of tree that i belongs to\n",
    "    def find(self, i):\n",
    "        if self.root[i] != i:\n",
    "            self.root[i] = self.find(self.root[i])\n",
    "        return self.root[i]\n",
    "    \n",
    "    '''\n",
    "    This function is based on the function I had in my data structure class.\n",
    "    def union(S,i,j):\n",
    "        ri = find(S,i)\n",
    "        rj = find(S,j)\n",
    "        if ri!=rj:\n",
    "            S[rj] = ri\n",
    "            return 1\n",
    "        return 0\n",
    "    '''\n",
    "    # Joins i's tree and j's tree, if they are different\n",
    "    def union(self, i, j):\n",
    "        rooti = self.find(i)\n",
    "        rootj = self.find(j)\n",
    "        if rooti == rootj:\n",
    "            return False\n",
    "        elif self.size[rooti] < self.size[rootj]:\n",
    "            self.size[rootj] += self.size[rootj]\n",
    "            self.root[rooti] = rootj\n",
    "        else:\n",
    "            self.size[rooti] += self.size[rootj]\n",
    "            self.root[rootj] = rooti\n",
    "            \n",
    "        return True\n",
    "\n",
    "class Solution:\n",
    "    def findRedundantConnection(self, edges):\n",
    "        # it is the length + 1 because the problem states that \n",
    "        # the graph starts with distinct values 1, 2, ..., N\n",
    "        n = len(edges) + 1\n",
    "        unionfind = UnionFind(n)\n",
    "        # it iterates all the edges in thhe graph\n",
    "        for edge in edges:\n",
    "            if unionfind.union(edge[0], edge[1]):\n",
    "                continue\n",
    "            # Return the edge that can be removed so that the resulting graph is a tree of N nodes.\n",
    "            return edge\n",
    "\n",
    "solution = Solution()\n",
    "solution.findRedundantConnection(edges=[[1,2], [1,3], [2,3]])\n",
    "solution.findRedundantConnection(edges=[[1,2], [2,3], [3,4], [1,4], [1,5]])"
   ]
  },
  {
   "cell_type": "code",
   "execution_count": null,
   "metadata": {},
   "outputs": [],
   "source": []
  }
 ]
}