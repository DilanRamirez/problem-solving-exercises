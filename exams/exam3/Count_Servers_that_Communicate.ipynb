{
 "metadata": {
  "language_info": {
   "codemirror_mode": {
    "name": "ipython",
    "version": 3
   },
   "file_extension": ".py",
   "mimetype": "text/x-python",
   "name": "python",
   "nbconvert_exporter": "python",
   "pygments_lexer": "ipython3",
   "version": "3.8.5-final"
  },
  "orig_nbformat": 2,
  "kernelspec": {
   "name": "python38532bite3265058a00e46b0a1c93adca26cd556",
   "display_name": "Python 3.8.5 32-bit"
  }
 },
 "nbformat": 4,
 "nbformat_minor": 2,
 "cells": [
  {
   "cell_type": "code",
   "execution_count": 17,
   "metadata": {},
   "outputs": [
    {
     "output_type": "execute_result",
     "data": {
      "text/plain": [
       "4"
      ]
     },
     "metadata": {},
     "execution_count": 17
    }
   ],
   "source": [
    "from collections import defaultdict\n",
    "\n",
    "class Solution:\n",
    "    def countserversConnected(self, grid):\n",
    "        serversConnected = 0\n",
    "        rows = defaultdict(int)\n",
    "        cols = defaultdict(int)  \n",
    "\n",
    "        # fill dictionaries up with connections between serversConnected\n",
    "        for row in range(len(grid)):\n",
    "            for col in range(len(grid[0])):\n",
    "                # if there is a server, the specific position will be increased by 1\n",
    "                if grid[row][col] == 1:\n",
    "                    rows[row] += 1\n",
    "                    cols[col] += 1\n",
    "\n",
    "        # traverse grid to find serversConnected\n",
    "        for row in range(len(grid)):\n",
    "            for col in range(len(grid[0])):\n",
    "                # if there is a server\n",
    "                if grid[row][col] == 1:\n",
    "                    # check if the server has a connection sniswith another server\n",
    "                    if rows[row] > 1 or cols[col] > 1:\n",
    "                        #if so, add a server to the serversConnected\n",
    "                       serversConnected += 1\n",
    "        \n",
    "        return serversConnected\n",
    "\n",
    "                    \n",
    "\n",
    "\n",
    "solution = Solution()\n",
    "solution.countserversConnected(grid = [[1,1,0,0],[0,0,1,0],[0,0,1,0],[0,0,0,1]])"
   ]
  },
  {
   "cell_type": "code",
   "execution_count": null,
   "metadata": {},
   "outputs": [],
   "source": []
  }
 ]
}