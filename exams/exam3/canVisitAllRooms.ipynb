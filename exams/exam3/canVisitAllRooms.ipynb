{
 "metadata": {
  "language_info": {
   "codemirror_mode": {
    "name": "ipython",
    "version": 3
   },
   "file_extension": ".py",
   "mimetype": "text/x-python",
   "name": "python",
   "nbconvert_exporter": "python",
   "pygments_lexer": "ipython3",
   "version": "3.8.5-final"
  },
  "orig_nbformat": 2,
  "kernelspec": {
   "name": "python38532bite3265058a00e46b0a1c93adca26cd556",
   "display_name": "Python 3.8.5 32-bit"
  }
 },
 "nbformat": 4,
 "nbformat_minor": 2,
 "cells": [
  {
   "cell_type": "code",
   "execution_count": 55,
   "metadata": {},
   "outputs": [
    {
     "output_type": "execute_result",
     "data": {
      "text/plain": [
       "True"
      ]
     },
     "metadata": {},
     "execution_count": 55
    }
   ],
   "source": [
    "class Solution:\n",
    "    def canVisitAllRooms(self, rooms):\n",
    "        # A set is a good data structure to store all the room visited\n",
    "        visited = set()\n",
    "        # since you start in room 0, room 0 is already visited \n",
    "        visited.add(0)\n",
    "        # A stack is also needed to keep track of the current room visited\n",
    "        stack = [0]\n",
    "\n",
    "        # Every room in the rooms is traverse until all room are visited\n",
    "        while len(stack) > 0:\n",
    "            # using the current room\n",
    "            currentRoom = stack.pop()\n",
    "            # every key is tried to enter the rest of the rooms\n",
    "            for key in rooms[currentRoom]:\n",
    "                # if the current key is not yet used\n",
    "                if key not in visited:\n",
    "                    # that key is stored in the visited set\n",
    "                    visited.add(key)\n",
    "                    # this key is also added to the stack to go to that room which will now be the current room.\n",
    "                    stack.append(key)\n",
    "        \n",
    "        # if all keys are in the visited set, it means all rooms were visited.\n",
    "        return len(visited) == len(rooms)\n",
    "\n",
    "\n",
    "solution = Solution()\n",
    "solution.canVisitAllRooms(rooms=[[1,3],[3,0,1],[2],[0]])\n",
    "solution.canVisitAllRooms(rooms=[[1],[2],[3],[]])"
   ]
  },
  {
   "cell_type": "code",
   "execution_count": null,
   "metadata": {},
   "outputs": [],
   "source": []
  }
 ]
}