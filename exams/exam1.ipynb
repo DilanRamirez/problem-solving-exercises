{
 "metadata": {
  "language_info": {
   "codemirror_mode": {
    "name": "ipython",
    "version": 3
   },
   "file_extension": ".py",
   "mimetype": "text/x-python",
   "name": "python",
   "nbconvert_exporter": "python",
   "pygments_lexer": "ipython3",
   "version": "3.8.5-final"
  },
  "orig_nbformat": 2,
  "kernelspec": {
   "name": "python38532bite3265058a00e46b0a1c93adca26cd556",
   "display_name": "Python 3.8.5 32-bit"
  }
 },
 "nbformat": 4,
 "nbformat_minor": 2,
 "cells": [
  {
   "cell_type": "code",
   "execution_count": 22,
   "metadata": {},
   "outputs": [
    {
     "output_type": "execute_result",
     "data": {
      "text/plain": [
       "20"
      ]
     },
     "metadata": {},
     "execution_count": 22
    }
   ],
   "source": [
    "# Problem 1\n",
    "\n",
    "def majorityElement(inputList):\n",
    "    majority = len(inputList) / 2\n",
    "    repeatedElemts = dict()\n",
    "    for num in inputList:\n",
    "        if num in repeatedElemts:\n",
    "            repeatedElemts[num] += 1\n",
    "        else:\n",
    "            repeatedElemts[num] = 1\n",
    "    repeatedNum = repeatedElemts[max(repeatedElemts, key=repeatedElemts.get)]\n",
    "    \n",
    "    if repeatedNum > majority:\n",
    "        return max(repeatedElemts, key=repeatedElemts.get)\n",
    "\n",
    "# majorityElement(inputList=[2,2,1,1,1,2,2])\n",
    "\n",
    "points_per_problem = 20\n",
    "\n",
    "def grade_p1():\n",
    "    grade = 0\n",
    "\n",
    "    test1 = majorityElement([3, 2, 3])\n",
    "    test2 = majorityElement([2, 2, 1, 1, 1, 2, 2])\n",
    "    test3 = majorityElement([2, 2, 1, 1, 1, 2, 2, 1, 1, 1, 1, 1, 1, 1, 1, 1, 1])\n",
    "\n",
    "    if test1 == 3 and test2 == 2 and test3 == 1:\n",
    "        grade += points_per_problem\n",
    "\n",
    "    return grade\n",
    "\n",
    "grade_p1()\n"
   ]
  },
  {
   "cell_type": "code",
   "execution_count": 27,
   "metadata": {},
   "outputs": [
    {
     "output_type": "execute_result",
     "data": {
      "text/plain": [
       "20"
      ]
     },
     "metadata": {},
     "execution_count": 27
    }
   ],
   "source": [
    "# Problem 2\n",
    "\n",
    "def singleNumber(inputList):\n",
    "    nonRepeated = dict()\n",
    "    for num in inputList:\n",
    "        if num in nonRepeated:\n",
    "            nonRepeated[num] += 1\n",
    "        else:\n",
    "            nonRepeated[num] = 1\n",
    "    return min(nonRepeated, key=nonRepeated.get)\n",
    "\n",
    "# singleNumber(inputList=[4,1,2,1,2])\n",
    "points_per_problem = 20\n",
    "\n",
    "def grade_p2():\n",
    "    grade = 0\n",
    "\n",
    "    test1 = singleNumber([2,2,1])\n",
    "    test2 = singleNumber([4, 1, 2, 1, 2])\n",
    "    test3 = singleNumber([8, 9, 9, 8, 1, 0, 1, 3, 2, 3, 2])\n",
    "\n",
    "    if test1 == 1 and test2 == 4 and test3 == 0:\n",
    "        grade += points_per_problem\n",
    "\n",
    "    return grade\n",
    "\n",
    "grade_p2()\n"
   ]
  },
  {
   "cell_type": "code",
   "execution_count": 38,
   "metadata": {},
   "outputs": [
    {
     "output_type": "execute_result",
     "data": {
      "text/plain": [
       "20"
      ]
     },
     "metadata": {},
     "execution_count": 38
    }
   ],
   "source": [
    "# Problem 3\n",
    "\n",
    "def climbingStairs(stairs):\n",
    "    return helperClimbingStairs(stairs + 1)\n",
    "\n",
    "def helperClimbingStairs(n):\n",
    "    if n <= 1:\n",
    "        return n\n",
    "    return helperClimbingStairs(n-1) + helperClimbingStairs(n-2)\n",
    "\n",
    "# climbingStairs(3)\n",
    "\n",
    "points_per_problem = 20\n",
    "    \n",
    "def grade_p3():\n",
    "    grade = 0\n",
    "\n",
    "    test1 = climbingStairs(2)\n",
    "    test2 = climbingStairs(3)\n",
    "    test3 = climbingStairs(13)\n",
    "\n",
    "    if test1 == 2 and test2 == 3 and test3 == 377:\n",
    "        grade += points_per_problem\n",
    "\n",
    "    return grade\n",
    "\n",
    "grade_p3()\n"
   ]
  },
  {
   "cell_type": "code",
   "execution_count": 73,
   "metadata": {},
   "outputs": [
    {
     "output_type": "execute_result",
     "data": {
      "text/plain": [
       "20"
      ]
     },
     "metadata": {},
     "execution_count": 73
    }
   ],
   "source": [
    "# Problem 5\n",
    "\n",
    "def buySellStock(stockList):\n",
    "    profit = 0\n",
    "    minPrice = 900000\n",
    "    for price in stockList:\n",
    "        if price < minPrice:\n",
    "            minPrice = price\n",
    "        elif price - minPrice > profit:\n",
    "            profit = price - minPrice\n",
    "    return profit\n",
    "\n",
    "    \n",
    "# buySellStock(stockList=[7,1,5,3,6,4])\n",
    "\n",
    "points_per_problem = 20\n",
    "\n",
    "def grade_p5():\n",
    "    grade = 0\n",
    "\n",
    "    test1 = buySellStock([7,1,5,3,6,4])\n",
    "    test2 = buySellStock([7, 6, 4, 3, 1])\n",
    "    test3 = buySellStock([7, 1, 5, 3, 6, 4, 3, 10, 10, 8])\n",
    "\n",
    "    if test1 == 5 and test2 == 0 and test3 == 9:\n",
    "        grade += points_per_problem\n",
    "\n",
    "    return grade\n",
    "    \n",
    "grade_p5()"
   ]
  },
  {
   "cell_type": "code",
   "execution_count": null,
   "metadata": {},
   "outputs": [],
   "source": []
  }
 ]
}