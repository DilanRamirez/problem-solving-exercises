{
 "metadata": {
  "language_info": {
   "codemirror_mode": {
    "name": "ipython",
    "version": 3
   },
   "file_extension": ".py",
   "mimetype": "text/x-python",
   "name": "python",
   "nbconvert_exporter": "python",
   "pygments_lexer": "ipython3",
   "version": "3.9.1-final"
  },
  "orig_nbformat": 2,
  "kernelspec": {
   "name": "python3",
   "display_name": "Python 3.9.1 64-bit",
   "metadata": {
    "interpreter": {
     "hash": "15379182e871ccf1d58bc0933a69c5c037e5a1974081beb8544f2e30f8eb95e4"
    }
   }
  }
 },
 "nbformat": 4,
 "nbformat_minor": 2,
 "cells": [
  {
   "cell_type": "code",
   "execution_count": 1,
   "metadata": {},
   "outputs": [
    {
     "output_type": "stream",
     "name": "stdout",
     "text": [
      "{}\n{3: 0}\n{3: 0, 2: 1}\n"
     ]
    },
    {
     "output_type": "execute_result",
     "data": {
      "text/plain": [
       "[1, 2]"
      ]
     },
     "metadata": {},
     "execution_count": 1
    }
   ],
   "source": [
    "def twoSum(nums, target):\n",
    "    sumInd = []\n",
    "    for num1 in range(len(nums)):\n",
    "        for num2 in range(len(nums)):\n",
    "            if nums[num1] + nums[num2] == target:\n",
    "                if num1 != num2:\n",
    "                    return [num1, num2]\n",
    "    return [num1, num2]\n",
    "        \n",
    "def twoSumDict(nums, target):\n",
    "    required = {}\n",
    "    for i in range(len(nums)):\n",
    "        if target - nums[i] in required:\n",
    "            return [required[target - nums[i]],i]\n",
    "        else:\n",
    "            required[nums[i]]=i\n",
    "    \n",
    "twoSumDict([3,2,4], 6)"
   ]
  },
  {
   "cell_type": "code",
   "execution_count": 40,
   "metadata": {},
   "outputs": [
    {
     "output_type": "execute_result",
     "data": {
      "text/plain": [
       "'321'"
      ]
     },
     "metadata": {},
     "execution_count": 40
    }
   ],
   "source": [
    "# 7. Reverse Integer\n",
    "def reverse(x):\n",
    "    strInt, newInt = str(x), ''\n",
    "    strInt = [char for char in strInt]\n",
    "    strInt = strInt[::-1]\n",
    "    for char in strInt:\n",
    "        newInt += char\n",
    "    return newInt\n",
    "\n",
    "reverse(-123)"
   ]
  },
  {
   "cell_type": "code",
   "execution_count": null,
   "metadata": {},
   "outputs": [],
   "source": [
    "def twoSum(self, numbers: List[int], target: int) -> List[int]:\n",
    "    # two sums sorted array\n",
    "    left = 0\n",
    "    right = len(numbers)-1\n",
    "    \n",
    "    while left < right:\n",
    "        total = numbers[left] + numbers[right]\n",
    "        if total == target:\n",
    "            break\n",
    "        if total < target:\n",
    "            left +=1\n",
    "        else:\n",
    "            right -= 1\n",
    "    return [left+1, right+1]"
   ]
  }
 ]
}